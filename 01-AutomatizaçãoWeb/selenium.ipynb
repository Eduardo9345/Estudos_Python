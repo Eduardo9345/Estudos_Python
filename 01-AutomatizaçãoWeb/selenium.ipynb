{
 "cells": [
  {
   "cell_type": "markdown",
   "id": "1c121bfa-9edc-44dd-869f-8a3ad8519efd",
   "metadata": {},
   "source": [
    "# Automação Web com Selenium\n",
    "\n",
    "Python + Selenium\n",
    "* 2 requisitos\n",
    "    * Instalar o selenium\n",
    "    * WebDriver Manager (permite que o selenium acesse o navegador, baixa o webdriver automaticamente)"
   ]
  },
  {
   "cell_type": "code",
   "execution_count": null,
   "id": "777148d2-9670-4271-882a-ad7540471ff7",
   "metadata": {},
   "outputs": [],
   "source": [
    "# Para aprender, vamo usar o Python para preemvher um formulário na internet\n",
    "\n",
    "# Link: https://pages.hashtagtreinamentos.com/inscricao-minicurso-python-automacao-org?origemurl=hashtag_yt_org_minipython_8AMNaVt0z_M\n"
   ]
  },
  {
   "cell_type": "code",
   "execution_count": null,
   "id": "cace1476-1c17-4a61-8064-42ad8f63f801",
   "metadata": {},
   "outputs": [],
   "source": [
    "from selenium import webdriver\n",
    "from selenium.webdriver.edge.service import Service\n",
    "from webdriver_manager.microsoft import EdgeChromiumDriverManager\n",
    "\n",
    "# Configuração do serviço para o Edge\n",
    "servico = Service(EdgeChromiumDriverManager().install())\n",
    "navegador = webdriver.Edge(service=servico)"
   ]
  },
  {
   "cell_type": "markdown",
   "id": "75995e04-c9e5-4e7e-9ea8-cde00f620a70",
   "metadata": {},
   "source": [
    "## Abrindo um link na internet"
   ]
  },
  {
   "cell_type": "code",
   "execution_count": null,
   "id": "9787342e-ea57-44c9-b297-b671d25be39a",
   "metadata": {},
   "outputs": [],
   "source": [
    "navegador.get(\n",
    "    \"https://pages.hashtagtreinamentos.com/inscricao-minicurso-python-automacao-org?origemurl=hashtag_yt_org_minipython_8AMNaVt0z_M\"\n",
    ") #Ir para uma página específica"
   ]
  },
  {
   "cell_type": "markdown",
   "id": "5d89a6b9-d80c-45d1-b128-88871a686bc8",
   "metadata": {},
   "source": [
    "## Preencher campos\n",
    "\n",
    "Procurar um elemento na página por meio do xpath (inspecionar, setinha, procura o html do negocio, copy + copy xpath)\n",
    "send_keys adiciona texto"
   ]
  },
  {
   "cell_type": "code",
   "execution_count": null,
   "id": "7e265088-87fe-4f7a-afd2-02a039ad2472",
   "metadata": {},
   "outputs": [],
   "source": [
    "navegador.find_element('xpath', \n",
    "                       '//*[@id=\"section-10356508\"]/section/div[2]/div/div[2]/form/div[1]/div/div[1]/div/input').send_keys(\"Eduardo José\") "
   ]
  },
  {
   "cell_type": "code",
   "execution_count": null,
   "id": "55bed1ea-d09a-424a-b98a-9536365db90d",
   "metadata": {},
   "outputs": [],
   "source": [
    "navegador.find_element('xpath',\n",
    "                       '//*[@id=\"section-10356508\"]/section/div[2]/div/div[2]/form/div[1]/div/div[2]/div/input').send_keys(\"eduardojose71953@gmail.com\")"
   ]
  },
  {
   "cell_type": "code",
   "execution_count": null,
   "id": "04e5b81a-e399-4ec4-a936-42f458ebbd59",
   "metadata": {},
   "outputs": [],
   "source": [
    "navegador.find_element('xpath',\n",
    "                       '//*[@id=\"section-10356508\"]/section/div[2]/div/div[2]/form/div[1]/div/div[3]/div/input').send_keys('(83) 99674-2497')"
   ]
  },
  {
   "cell_type": "code",
   "execution_count": null,
   "id": "e2ddc369-fba0-426d-910c-553c8640db71",
   "metadata": {},
   "outputs": [],
   "source": [
    "navegador.find_element('xpath',\n",
    "                       '//*[@id=\"section-10356508\"]/section/div[2]/div/div[2]/form/button').click()"
   ]
  }
 ],
 "metadata": {
  "kernelspec": {
   "display_name": "Python 3",
   "language": "python",
   "name": "python3"
  },
  "language_info": {
   "codemirror_mode": {
    "name": "ipython",
    "version": 3
   },
   "file_extension": ".py",
   "mimetype": "text/x-python",
   "name": "python",
   "nbconvert_exporter": "python",
   "pygments_lexer": "ipython3",
   "version": "3.11.9"
  }
 },
 "nbformat": 4,
 "nbformat_minor": 5
}
