{
 "cells": [
  {
   "cell_type": "markdown",
   "id": "1c36f728-edab-4c75-9139-1bfd31e850a7",
   "metadata": {},
   "source": [
    "# Enviar Gmail"
   ]
  },
  {
   "cell_type": "code",
   "execution_count": 2,
   "id": "91f7227e-c9bf-4924-a1ca-598a5c1bbc10",
   "metadata": {},
   "outputs": [],
   "source": [
    "import smtplib\n",
    "import email.message"
   ]
  },
  {
   "cell_type": "code",
   "execution_count": 23,
   "id": "1e79ebe6-1bb0-48ef-a173-f57d214a7e0e",
   "metadata": {},
   "outputs": [],
   "source": [
    "def enviar_email():\n",
    "    corpo_email = \"\"\" \n",
    "    <h1>Boa tarde</h1>\n",
    "    <p>Olá Lira</p>\n",
    "    <p>Segue o meu email automático</p>\n",
    "    \"\"\"\n",
    "    msg = email.message.Message()\n",
    "    msg['Subject'] = \"Teste de Email\"\n",
    "    msg['From'] = \"eduardojose71953@gmail.com\"\n",
    "    msg['To'] = \"eduardojose71953@gmail.com\"\n",
    "    password = 'jtcqlyqkdjxcuprs' #Senha de App vinda do Google 'Senha de Apps'\n",
    "    msg.add_header('Content-Type', 'text/html') # Pode usar HTML\n",
    "    msg.set_payload(corpo_email)\n",
    "\n",
    "    s = smtplib.SMTP('smtp.gmail.com: 587')\n",
    "    s.starttls()\n",
    "\n",
    "    #Login Credentials forsending the email\n",
    "    s.login(msg['From'], password)\n",
    "    s.sendmail(msg['From'], [msg['To']], msg.as_string().encode('utf-8'))\n",
    "    print('Email Enviado')"
   ]
  },
  {
   "cell_type": "code",
   "execution_count": 24,
   "id": "32b5ac39-bb19-4b72-a052-4e9bebb98837",
   "metadata": {},
   "outputs": [
    {
     "name": "stdout",
     "output_type": "stream",
     "text": [
      "Email Enviado\n"
     ]
    }
   ],
   "source": [
    "enviar_email()"
   ]
  }
 ],
 "metadata": {
  "kernelspec": {
   "display_name": "Python 3 (ipykernel)",
   "language": "python",
   "name": "python3"
  },
  "language_info": {
   "codemirror_mode": {
    "name": "ipython",
    "version": 3
   },
   "file_extension": ".py",
   "mimetype": "text/x-python",
   "name": "python",
   "nbconvert_exporter": "python",
   "pygments_lexer": "ipython3",
   "version": "3.12.3"
  }
 },
 "nbformat": 4,
 "nbformat_minor": 5
}
